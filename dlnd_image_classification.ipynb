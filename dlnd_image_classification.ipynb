{
 "cells": [
  {
   "cell_type": "markdown",
   "metadata": {
    "collapsed": true
   },
   "source": [
    "# Image Classification\n",
    "In this project, you'll classify images from the [CIFAR-10 dataset](https://www.cs.toronto.edu/~kriz/cifar.html).  The dataset consists of airplanes, dogs, cats, and other objects. You'll preprocess the images, then train a convolutional neural network on all the samples. The images need to be normalized and the labels need to be one-hot encoded.  You'll get to apply what you learned and build a convolutional, max pooling, dropout, and fully connected layers.  At the end, you'll get to see your neural network's predictions on the sample images.\n",
    "## Get the Data\n",
    "Run the following cell to download the [CIFAR-10 dataset for python](https://www.cs.toronto.edu/~kriz/cifar-10-python.tar.gz)."
   ]
  },
  {
   "cell_type": "code",
   "execution_count": 1,
   "metadata": {
    "collapsed": false
   },
   "outputs": [
    {
     "name": "stderr",
     "output_type": "stream",
     "text": [
      "CIFAR-10 Dataset: 171MB [02:21, 1.21MB/s]                                                                              \n"
     ]
    },
    {
     "name": "stdout",
     "output_type": "stream",
     "text": [
      "All files found!\n"
     ]
    }
   ],
   "source": [
    "\"\"\"\n",
    "DON'T MODIFY ANYTHING IN THIS CELL THAT IS BELOW THIS LINE\n",
    "\"\"\"\n",
    "from urllib.request import urlretrieve\n",
    "from os.path import isfile, isdir\n",
    "from tqdm import tqdm\n",
    "import problem_unittests as tests\n",
    "import tarfile\n",
    "\n",
    "cifar10_dataset_folder_path = 'cifar-10-batches-py'\n",
    "\n",
    "# Use Floyd's cifar-10 dataset if present\n",
    "floyd_cifar10_location = '/cifar/cifar-10-python.tar.gz'\n",
    "if isfile(floyd_cifar10_location):\n",
    "    tar_gz_path = floyd_cifar10_location\n",
    "else:\n",
    "    tar_gz_path = 'cifar-10-python.tar.gz'\n",
    "\n",
    "class DLProgress(tqdm):\n",
    "    last_block = 0\n",
    "\n",
    "    def hook(self, block_num=1, block_size=1, total_size=None):\n",
    "        self.total = total_size\n",
    "        self.update((block_num - self.last_block) * block_size)\n",
    "        self.last_block = block_num\n",
    "\n",
    "if not isfile(tar_gz_path):\n",
    "    with DLProgress(unit='B', unit_scale=True, miniters=1, desc='CIFAR-10 Dataset') as pbar:\n",
    "        urlretrieve(\n",
    "            'https://www.cs.toronto.edu/~kriz/cifar-10-python.tar.gz',\n",
    "            tar_gz_path,\n",
    "            pbar.hook)\n",
    "\n",
    "if not isdir(cifar10_dataset_folder_path):\n",
    "    with tarfile.open(tar_gz_path) as tar:\n",
    "        tar.extractall()\n",
    "        tar.close()\n",
    "\n",
    "\n",
    "tests.test_folder_path(cifar10_dataset_folder_path)"
   ]
  },
  {
   "cell_type": "markdown",
   "metadata": {},
   "source": [
    "## Explore the Data\n",
    "The dataset is broken into batches to prevent your machine from running out of memory.  The CIFAR-10 dataset consists of 5 batches, named `data_batch_1`, `data_batch_2`, etc.. Each batch contains the labels and images that are one of the following:\n",
    "* airplane\n",
    "* automobile\n",
    "* bird\n",
    "* cat\n",
    "* deer\n",
    "* dog\n",
    "* frog\n",
    "* horse\n",
    "* ship\n",
    "* truck\n",
    "\n",
    "Understanding a dataset is part of making predictions on the data.  Play around with the code cell below by changing the `batch_id` and `sample_id`. The `batch_id` is the id for a batch (1-5). The `sample_id` is the id for a image and label pair in the batch.\n",
    "\n",
    "Ask yourself \"What are all possible labels?\", \"What is the range of values for the image data?\", \"Are the labels in order or random?\".  Answers to questions like these will help you preprocess the data and end up with better predictions."
   ]
  },
  {
   "cell_type": "code",
   "execution_count": 2,
   "metadata": {
    "collapsed": false
   },
   "outputs": [
    {
     "name": "stdout",
     "output_type": "stream",
     "text": [
      "\n",
      "Stats of batch 1:\n",
      "Samples: 10000\n",
      "Label Counts: {0: 1005, 1: 974, 2: 1032, 3: 1016, 4: 999, 5: 937, 6: 1030, 7: 1001, 8: 1025, 9: 981}\n",
      "First 20 Labels: [6, 9, 9, 4, 1, 1, 2, 7, 8, 3, 4, 7, 7, 2, 9, 9, 9, 3, 2, 6]\n",
      "\n",
      "Example of Image 5:\n",
      "Image - Min Value: 0 Max Value: 252\n",
      "Image - Shape: (32, 32, 3)\n",
      "Label - Label Id: 1 Name: automobile\n"
     ]
    },
    {
     "data": {
      "image/png": "[encoded data removed]",
      "text/plain": [
       "<matplotlib.figure.Figure at 0x1cf16853978>"
      ]
     },
     "metadata": {
      "image/png": {
       "height": 250,
       "width": 253
      }
     },
     "output_type": "display_data"
    }
   ],
   "source": [
    "%matplotlib inline\n",
    "%config InlineBackend.figure_format = 'retina'\n",
    "\n",
    "import helper\n",
    "import numpy as np\n",
    "\n",
    "# Explore the dataset\n",
    "batch_id = 1\n",
    "sample_id = 5\n",
    "helper.display_stats(cifar10_dataset_folder_path, batch_id, sample_id)"
   ]
  },
  {
   "cell_type": "markdown",
   "metadata": {},
   "source": [
    "## Implement Preprocess Functions\n",
    "### Normalize\n",
    "In the cell below, implement the `normalize` function to take in image data, `x`, and return it as a normalized Numpy array. The values should be in the range of 0 to 1, inclusive.  The return object should be the same shape as `x`."
   ]
  },
  {
   "cell_type": "code",
   "execution_count": 3,
   "metadata": {
    "collapsed": false
   },
   "outputs": [
    {
     "name": "stdout",
     "output_type": "stream",
     "text": [
      "Tests Passed\n"
     ]
    }
   ],
   "source": [
    "def normalize(x):\n",
    "    \"\"\"\n",
    "    Normalize a list of sample image data in the range of 0 to 1\n",
    "    : x: List of image data.  The image shape is (32, 32, 3)\n",
    "    : return: Numpy array of normalize data\n",
    "    \"\"\"\n",
    "    # TODO: Implement Function\n",
    "    return ((x-np.min(x))/(np.max(x) - np.min(x)))\n",
    "\n",
    "\n",
    "\"\"\"\n",
    "DON'T MODIFY ANYTHING IN THIS CELL THAT IS BELOW THIS LINE\n",
    "\"\"\"\n",
    "tests.test_normalize(normalize)"
   ]
  },
  {
   "cell_type": "markdown",
   "metadata": {},
   "source": [
    "### One-hot encode\n",
    "Just like the previous code cell, you'll be implementing a function for preprocessing.  This time, you'll implement the `one_hot_encode` function. The input, `x`, are a list of labels.  Implement the function to return the list of labels as One-Hot encoded Numpy array.  The possible values for labels are 0 to 9. The one-hot encoding function should return the same encoding for each value between each call to `one_hot_encode`.  Make sure to save the map of encodings outside the function.\n",
    "\n",
    "Hint: Don't reinvent the wheel."
   ]
  },
  {
   "cell_type": "code",
   "execution_count": 6,
   "metadata": {
    "collapsed": false
   },
   "outputs": [
    {
     "name": "stdout",
     "output_type": "stream",
     "text": [
      "Tests Passed\n"
     ]
    }
   ],
   "source": [
    "def one_hot_encode(x):\n",
    "    \"\"\"\n",
    "    One hot encode a list of sample labels. Return a one-hot encoded vector for each label.\n",
    "    : x: List of sample Labels\n",
    "    : return: Numpy array of one-hot encoded labels\n",
    "    \"\"\"\n",
    "    # TODO: Implement Function\n",
    "    n_labels = 10\n",
    "    return np.eye(n_labels)[x]\n",
    "\n",
    "\n",
    "\"\"\"\n",
    "DON'T MODIFY ANYTHING IN THIS CELL THAT IS BELOW THIS LINE\n",
    "\"\"\"\n",
    "tests.test_one_hot_encode(one_hot_encode)"
   ]
  },
  {
   "cell_type": "markdown",
   "metadata": {},
   "source": [
    "### Randomize Data\n",
    "As you saw from exploring the data above, the order of the samples are randomized.  It doesn't hurt to randomize it again, but you don't need to for this dataset."
   ]
  },
  {
   "cell_type": "markdown",
   "metadata": {},
   "source": [
    "## Preprocess all the data and save it\n",
    "Running the code cell below will preprocess all the CIFAR-10 data and save it to file. The code below also uses 10% of the training data for validation."
   ]
  },
  {
   "cell_type": "code",
   "execution_count": 7,
   "metadata": {
    "collapsed": true
   },
   "outputs": [],
   "source": [
    "\"\"\"\n",
    "DON'T MODIFY ANYTHING IN THIS CELL\n",
    "\"\"\"\n",
    "# Preprocess Training, Validation, and Testing Data\n",
    "helper.preprocess_and_save_data(cifar10_dataset_folder_path, normalize, one_hot_encode)"
   ]
  },
  {
   "cell_type": "markdown",
   "metadata": {},
   "source": [
    "# Check Point\n",
    "This is your first checkpoint.  If you ever decide to come back to this notebook or have to restart the notebook, you can start from here.  The preprocessed data has been saved to disk."
   ]
  },
  {
   "cell_type": "code",
   "execution_count": 9,
   "metadata": {
    "collapsed": true
   },
   "outputs": [],
   "source": [
    "\"\"\"\n",
    "DON'T MODIFY ANYTHING IN THIS CELL\n",
    "\"\"\"\n",
    "import pickle\n",
    "import problem_unittests as tests\n",
    "import helper\n",
    "\n",
    "# Load the Preprocessed Validation data\n",
    "valid_features, valid_labels = pickle.load(open('preprocess_validation.p', mode='rb'))"
   ]
  },
  {
   "cell_type": "markdown",
   "metadata": {},
   "source": [
    "## Build the network\n",
    "For the neural network, you'll build each layer into a function.  Most of the code you've seen has been outside of functions. To test your code more thoroughly, we require that you put each layer in a function.  This allows us to give you better feedback and test for simple mistakes using our unittests before you submit your project.\n",
    "\n",
    ">**Note:** If you're finding it hard to dedicate enough time for this course each week, we've provided a small shortcut to this part of the project. In the next couple of problems, you'll have the option to use classes from the [TensorFlow Layers](https://www.tensorflow.org/api_docs/python/tf/layers) or [TensorFlow Layers (contrib)](https://www.tensorflow.org/api_guides/python/contrib.layers) packages to build each layer, except the layers you build in the \"Convolutional and Max Pooling Layer\" section.  TF Layers is similar to Keras's and TFLearn's abstraction to layers, so it's easy to pickup.\n",
    "\n",
    ">However, if you would like to get the most out of this course, try to solve all the problems _without_ using anything from the TF Layers packages. You **can** still use classes from other packages that happen to have the same name as ones you find in TF Layers! For example, instead of using the TF Layers version of the `conv2d` class, [tf.layers.conv2d](https://www.tensorflow.org/api_docs/python/tf/layers/conv2d), you would want to use the TF Neural Network version of `conv2d`, [tf.nn.conv2d](https://www.tensorflow.org/api_docs/python/tf/nn/conv2d). \n",
    "\n",
    "Let's begin!\n",
    "\n",
    "### Input\n",
    "The neural network needs to read the image data, one-hot encoded labels, and dropout keep probability. Implement the following functions\n",
    "* Implement `neural_net_image_input`\n",
    " * Return a [TF Placeholder](https://www.tensorflow.org/api_docs/python/tf/placeholder)\n",
    " * Set the shape using `image_shape` with batch size set to `None`.\n",
    " * Name the TensorFlow placeholder \"x\" using the TensorFlow `name` parameter in the [TF Placeholder](https://www.tensorflow.org/api_docs/python/tf/placeholder).\n",
    "* Implement `neural_net_label_input`\n",
    " * Return a [TF Placeholder](https://www.tensorflow.org/api_docs/python/tf/placeholder)\n",
    " * Set the shape using `n_classes` with batch size set to `None`.\n",
    " * Name the TensorFlow placeholder \"y\" using the TensorFlow `name` parameter in the [TF Placeholder](https://www.tensorflow.org/api_docs/python/tf/placeholder).\n",
    "* Implement `neural_net_keep_prob_input`\n",
    " * Return a [TF Placeholder](https://www.tensorflow.org/api_docs/python/tf/placeholder) for dropout keep probability.\n",
    " * Name the TensorFlow placeholder \"keep_prob\" using the TensorFlow `name` parameter in the [TF Placeholder](https://www.tensorflow.org/api_docs/python/tf/placeholder).\n",
    "\n",
    "These names will be used at the end of the project to load your saved model.\n",
    "\n",
    "Note: `None` for shapes in TensorFlow allow for a dynamic size."
   ]
  },
  {
   "cell_type": "code",
   "execution_count": 10,
   "metadata": {
    "collapsed": false
   },
   "outputs": [
    {
     "name": "stdout",
     "output_type": "stream",
     "text": [
      "Image Input Tests Passed.\n",
      "Label Input Tests Passed.\n",
      "Keep Prob Tests Passed.\n"
     ]
    }
   ],
   "source": [
    "import tensorflow as tf\n",
    "\n",
    "def neural_net_image_input(image_shape):\n",
    "    \"\"\"\n",
    "    Return a Tensor for a batch of image input\n",
    "    : image_shape: Shape of the images\n",
    "    : return: Tensor for image input.\n",
    "    \"\"\"\n",
    "    # TODO: Implement Function\n",
    "    return tf.placeholder(tf.float32, (None, *image_shape), name=\"x\")\n",
    "\n",
    "\n",
    "def neural_net_label_input(n_classes):\n",
    "    \"\"\"\n",
    "    Return a Tensor for a batch of label input\n",
    "    : n_classes: Number of classes\n",
    "    : return: Tensor for label input.\n",
    "    \"\"\"\n",
    "    # TODO: Implement Function\n",
    "    return tf.placeholder(tf.float32, (None, n_classes), name=\"y\")\n",
    "\n",
    "\n",
    "def neural_net_keep_prob_input():\n",
    "    \"\"\"\n",
    "    Return a Tensor for keep probability\n",
    "    : return: Tensor for keep probability.\n",
    "    \"\"\"\n",
    "    # TODO: Implement Function\n",
    "    return tf.placeholder(tf.float32, name=\"keep_prob\")\n",
    "\n",
    "\n",
    "\"\"\"\n",
    "DON'T MODIFY ANYTHING IN THIS CELL THAT IS BELOW THIS LINE\n",
    "\"\"\"\n",
    "tf.reset_default_graph()\n",
    "tests.test_nn_image_inputs(neural_net_image_input)\n",
    "tests.test_nn_label_inputs(neural_net_label_input)\n",
    "tests.test_nn_keep_prob_inputs(neural_net_keep_prob_input)"
   ]
  },
  {
   "cell_type": "markdown",
   "metadata": {},
   "source": [
    "### Convolution and Max Pooling Layer\n",
    "Convolution layers have a lot of success with images. For this code cell, you should implement the function `conv2d_maxpool` to apply convolution then max pooling:\n",
    "* Create the weight and bias using `conv_ksize`, `conv_num_outputs` and the shape of `x_tensor`.\n",
    "* Apply a convolution to `x_tensor` using weight and `conv_strides`.\n",
    " * We recommend you use same padding, but you're welcome to use any padding.\n",
    "* Add bias\n",
    "* Add a nonlinear activation to the convolution.\n",
    "* Apply Max Pooling using `pool_ksize` and `pool_strides`.\n",
    " * We recommend you use same padding, but you're welcome to use any padding.\n",
    "\n",
    "**Note:** You **can't** use [TensorFlow Layers](https://www.tensorflow.org/api_docs/python/tf/layers) or [TensorFlow Layers (contrib)](https://www.tensorflow.org/api_guides/python/contrib.layers) for **this** layer, but you can still use TensorFlow's [Neural Network](https://www.tensorflow.org/api_docs/python/tf/nn) package. You may still use the shortcut option for all the **other** layers."
   ]
  },
  {
   "cell_type": "code",
   "execution_count": 11,
   "metadata": {
    "collapsed": false
   },
   "outputs": [
    {
     "name": "stdout",
     "output_type": "stream",
     "text": [
      "Tests Passed\n"
     ]
    }
   ],
   "source": [
    "def conv2d_maxpool(x_tensor, conv_num_outputs, conv_ksize, conv_strides, pool_ksize, pool_strides):\n",
    "    \"\"\"\n",
    "    Apply convolution then max pooling to x_tensor\n",
    "    :param x_tensor: TensorFlow Tensor\n",
    "    :param conv_num_outputs: Number of outputs for the convolutional layer\n",
    "    :param conv_ksize: kernal size 2-D Tuple for the convolutional layer\n",
    "    :param conv_strides: Stride 2-D Tuple for convolution\n",
    "    :param pool_ksize: kernal size 2-D Tuple for pool\n",
    "    :param pool_strides: Stride 2-D Tuple for pool\n",
    "    : return: A tensor that represents convolution and max pooling of x_tensor\n",
    "    \"\"\"\n",
    "    # TODO: Implement Function\n",
    "    input_shape = int(x_tensor.shape[3])\n",
    "    output_shape = conv_num_outputs\n",
    "    weight_shape = [*conv_ksize, input_shape, output_shape]\n",
    "    w = tf.Variable(tf.random_normal(weight_shape, stddev=0.1))\n",
    "    b = tf.Variable(tf.zeros(output_shape))\n",
    "    \n",
    "    # Initialize the 2d conv layer\n",
    "    conv_net = tf.nn.conv2d(x_tensor, w, [1, *conv_strides, 1], padding=\"SAME\")\n",
    "    \n",
    "    # Add the bias\n",
    "    conv_net = tf.nn.bias_add(conv_net, b)\n",
    "    \n",
    "    # Add nonlinear activiation with relu\n",
    "    conv_net = tf.nn.relu(conv_net)\n",
    "    \n",
    "    # Max pooling\n",
    "    mp_strides = [1, *pool_strides, 1]\n",
    "    mp_ksize = [1, *conv_ksize, 1]\n",
    "    conv_net = tf.nn.max_pool(conv_net, mp_ksize, mp_strides, padding=\"SAME\")\n",
    "    \n",
    "    return conv_net \n",
    "\n",
    "\n",
    "\"\"\"\n",
    "DON'T MODIFY ANYTHING IN THIS CELL THAT IS BELOW THIS LINE\n",
    "\"\"\"\n",
    "tests.test_con_pool(conv2d_maxpool)"
   ]
  },
  {
   "cell_type": "markdown",
   "metadata": {},
   "source": [
    "### Flatten Layer\n",
    "Implement the `flatten` function to change the dimension of `x_tensor` from a 4-D tensor to a 2-D tensor.  The output should be the shape (*Batch Size*, *Flattened Image Size*). Shortcut option: you can use classes from the [TensorFlow Layers](https://www.tensorflow.org/api_docs/python/tf/layers) or [TensorFlow Layers (contrib)](https://www.tensorflow.org/api_guides/python/contrib.layers) packages for this layer. For more of a challenge, only use other TensorFlow packages."
   ]
  },
  {
   "cell_type": "code",
   "execution_count": 12,
   "metadata": {
    "collapsed": false
   },
   "outputs": [
    {
     "name": "stdout",
     "output_type": "stream",
     "text": [
      "Tests Passed\n"
     ]
    }
   ],
   "source": [
    "def flatten(x_tensor):\n",
    "    \"\"\"\n",
    "    Flatten x_tensor to (Batch Size, Flattened Image Size)\n",
    "    : x_tensor: A tensor of size (Batch Size, ...), where ... are the image dimensions.\n",
    "    : return: A tensor of size (Batch Size, Flattened Image Size).\n",
    "    \"\"\"\n",
    "    # TODO: Implement Function\n",
    "    return tf.contrib.layers.flatten(x_tensor)\n",
    "\n",
    "\n",
    "\"\"\"\n",
    "DON'T MODIFY ANYTHING IN THIS CELL THAT IS BELOW THIS LINE\n",
    "\"\"\"\n",
    "tests.test_flatten(flatten)"
   ]
  },
  {
   "cell_type": "markdown",
   "metadata": {},
   "source": [
    "### Fully-Connected Layer\n",
    "Implement the `fully_conn` function to apply a fully connected layer to `x_tensor` with the shape (*Batch Size*, *num_outputs*). Shortcut option: you can use classes from the [TensorFlow Layers](https://www.tensorflow.org/api_docs/python/tf/layers) or [TensorFlow Layers (contrib)](https://www.tensorflow.org/api_guides/python/contrib.layers) packages for this layer. For more of a challenge, only use other TensorFlow packages."
   ]
  },
  {
   "cell_type": "code",
   "execution_count": 13,
   "metadata": {
    "collapsed": false
   },
   "outputs": [
    {
     "name": "stdout",
     "output_type": "stream",
     "text": [
      "Tests Passed\n"
     ]
    }
   ],
   "source": [
    "def fully_conn(x_tensor, num_outputs):\n",
    "    \"\"\"\n",
    "    Apply a fully connected layer to x_tensor using weight and bias\n",
    "    : x_tensor: A 2-D tensor where the first dimension is batch size.\n",
    "    : num_outputs: The number of output that the new tensor should be.\n",
    "    : return: A 2-D tensor where the second dimension is num_outputs.\n",
    "    \"\"\"\n",
    "    # TODO: Implement Function\n",
    "    weight_shape = (int(x_tensor.shape[1]), num_outputs)\n",
    "    w = tf.Variable(tf.random_normal(weight_shape, stddev=0.1))\n",
    "    b = tf.Variable(tf.zeros(num_outputs))\n",
    "    \n",
    "    layer = tf.add(tf.matmul(x_tensor, w), b)\n",
    "    layer = tf.nn.relu(layer)\n",
    "    \n",
    "    return layer\n",
    "\n",
    "\n",
    "\"\"\"\n",
    "DON'T MODIFY ANYTHING IN THIS CELL THAT IS BELOW THIS LINE\n",
    "\"\"\"\n",
    "tests.test_fully_conn(fully_conn)"
   ]
  },
  {
   "cell_type": "markdown",
   "metadata": {},
   "source": [
    "### Output Layer\n",
    "Implement the `output` function to apply a fully connected layer to `x_tensor` with the shape (*Batch Size*, *num_outputs*). Shortcut option: you can use classes from the [TensorFlow Layers](https://www.tensorflow.org/api_docs/python/tf/layers) or [TensorFlow Layers (contrib)](https://www.tensorflow.org/api_guides/python/contrib.layers) packages for this layer. For more of a challenge, only use other TensorFlow packages.\n",
    "\n",
    "**Note:** Activation, softmax, or cross entropy should **not** be applied to this."
   ]
  },
  {
   "cell_type": "code",
   "execution_count": 15,
   "metadata": {
    "collapsed": false
   },
   "outputs": [
    {
     "name": "stdout",
     "output_type": "stream",
     "text": [
      "Tests Passed\n"
     ]
    }
   ],
   "source": [
    "def output(x_tensor, num_outputs):\n",
    "    \"\"\"\n",
    "    Apply a output layer to x_tensor using weight and bias\n",
    "    : x_tensor: A 2-D tensor where the first dimension is batch size.\n",
    "    : num_outputs: The number of output that the new tensor should be.\n",
    "    : return: A 2-D tensor where the second dimension is num_outputs.\n",
    "    \"\"\"\n",
    "    # TODO: Implement Function\n",
    "    weight_shape = (int(x_tensor.shape[1]), num_outputs)\n",
    "    w = tf.Variable(tf.random_normal(weight_shape, stddev=0.1))\n",
    "    b = tf.Variable(tf.zeros(num_outputs))\n",
    "    \n",
    "    layer = tf.add(tf.matmul(x_tensor, w), b)\n",
    "    \n",
    "    return layer\n",
    "\n",
    "\n",
    "\"\"\"\n",
    "DON'T MODIFY ANYTHING IN THIS CELL THAT IS BELOW THIS LINE\n",
    "\"\"\"\n",
    "tests.test_output(output)"
   ]
  },
  {
   "cell_type": "markdown",
   "metadata": {},
   "source": [
    "### Create Convolutional Model\n",
    "Implement the function `conv_net` to create a convolutional neural network model. The function takes in a batch of images, `x`, and outputs logits.  Use the layers you created above to create this model:\n",
    "\n",
    "* Apply 1, 2, or 3 Convolution and Max Pool layers\n",
    "* Apply a Flatten Layer\n",
    "* Apply 1, 2, or 3 Fully Connected Layers\n",
    "* Apply an Output Layer\n",
    "* Return the output\n",
    "* Apply [TensorFlow's Dropout](https://www.tensorflow.org/api_docs/python/tf/nn/dropout) to one or more layers in the model using `keep_prob`. "
   ]
  },
  {
   "cell_type": "code",
   "execution_count": 16,
   "metadata": {
    "collapsed": false
   },
   "outputs": [
    {
     "name": "stdout",
     "output_type": "stream",
     "text": [
      "Neural Network Built!\n"
     ]
    }
   ],
   "source": [
    "def conv_net(x, keep_prob):\n",
    "    \"\"\"\n",
    "    Create a convolutional neural network model\n",
    "    : x: Placeholder tensor that holds image data.\n",
    "    : keep_prob: Placeholder tensor that hold dropout keep probability.\n",
    "    : return: Tensor that represents logits\n",
    "    \"\"\"\n",
    "    # TODO: Apply 1, 2, or 3 Convolution and Max Pool layers\n",
    "    #    Play around with different number of outputs, kernel size and stride\n",
    "    # Function Definition from Above:\n",
    "    #    conv2d_maxpool(x_tensor, conv_num_outputs, conv_ksize, conv_strides, pool_ksize, pool_strides)\n",
    "    conv_num_outputs_layer_1 = 64\n",
    "    conv_ksize_layer_1 = (3, 3)\n",
    "    conv_strides_layer_1 = (1, 1)\n",
    "    pool_ksize_layer_1 = (2, 2)\n",
    "    pool_strides_layer_1 = (2, 2)\n",
    "    \n",
    "    conv_layer_1 = conv2d_maxpool(x,\n",
    "                           conv_num_outputs_layer_1,\n",
    "                           conv_ksize_layer_1,\n",
    "                           conv_strides_layer_1,\n",
    "                           pool_ksize_layer_1,\n",
    "                           pool_strides_layer_1)\n",
    "    \n",
    "    conv_num_outputs_layer_2 = 64\n",
    "    conv_ksize_layer_2 = (3, 3)\n",
    "    conv_strides_layer_2 = (2, 2)\n",
    "    pool_ksize_layer_2 = (2, 2)\n",
    "    pool_strides_layer_2 = (2, 2)\n",
    "    \n",
    "    conv_layer_2 = conv2d_maxpool(conv_layer_1,\n",
    "                           conv_num_outputs_layer_2,\n",
    "                           conv_ksize_layer_2,\n",
    "                           conv_strides_layer_2,\n",
    "                           pool_ksize_layer_2,\n",
    "                           pool_strides_layer_2)\n",
    "    \n",
    "    conv_num_outputs_layer_3 = 64\n",
    "    conv_ksize_layer_3 = (3, 3)\n",
    "    conv_strides_layer_3 = (1, 1)\n",
    "    pool_ksize_layer_3 = (2, 2)\n",
    "    pool_strides_layer_3 = (2, 2)\n",
    "    \n",
    "    conv_layer_3 = conv2d_maxpool(conv_layer_2,\n",
    "                           conv_num_outputs_layer_3,\n",
    "                           conv_ksize_layer_3,\n",
    "                           conv_strides_layer_3,\n",
    "                           pool_ksize_layer_3,\n",
    "                           pool_strides_layer_3)\n",
    "        \n",
    "    # TODO: Apply a Flatten Layer\n",
    "    # Function Definition from Above:\n",
    "    #   flatten(x_tensor)\n",
    "    flatten_layer = flatten(conv_layer_3)\n",
    "\n",
    "    # TODO: Apply 1, 2, or 3 Fully Connected Layers\n",
    "    #    Play around with different number of outputs\n",
    "    # Function Definition from Above:\n",
    "    #   fully_conn(x_tensor, num_outputs)\n",
    "    fc_layer_1_num_outputs = 512\n",
    "    fc_layer_1 = fully_conn(flatten_layer, fc_layer_1_num_outputs)\n",
    "    fc_layer_1 = tf.nn.dropout(fc_layer_1, keep_prob)\n",
    "    \n",
    "    fc_layer_2_num_outputs = 256\n",
    "    fc_layer_2 = fully_conn(fc_layer_1, fc_layer_2_num_outputs)\n",
    "    fc_layer_2 = tf.nn.dropout(fc_layer_2, keep_prob)\n",
    "    \n",
    "    # TODO: Apply an Output Layer\n",
    "    #    Set this to the number of classes\n",
    "    # Function Definition from Above:\n",
    "    #   output(x_tensor, num_outputs)\n",
    "    output_num_outputs = 10\n",
    "    output_layer = output(fc_layer_2, output_num_outputs)\n",
    "    \n",
    "    # TODO: return output\n",
    "    return output_layer\n",
    "\n",
    "\n",
    "\"\"\"\n",
    "DON'T MODIFY ANYTHING IN THIS CELL THAT IS BELOW THIS LINE\n",
    "\"\"\"\n",
    "\n",
    "##############################\n",
    "## Build the Neural Network ##\n",
    "##############################\n",
    "\n",
    "# Remove previous weights, bias, inputs, etc..\n",
    "tf.reset_default_graph()\n",
    "\n",
    "# Inputs\n",
    "x = neural_net_image_input((32, 32, 3))\n",
    "y = neural_net_label_input(10)\n",
    "keep_prob = neural_net_keep_prob_input()\n",
    "\n",
    "# Model\n",
    "logits = conv_net(x, keep_prob)\n",
    "\n",
    "# Name logits Tensor, so that is can be loaded from disk after training\n",
    "logits = tf.identity(logits, name='logits')\n",
    "\n",
    "# Loss and Optimizer\n",
    "cost = tf.reduce_mean(tf.nn.softmax_cross_entropy_with_logits(logits=logits, labels=y))\n",
    "optimizer = tf.train.AdamOptimizer().minimize(cost)\n",
    "\n",
    "# Accuracy\n",
    "correct_pred = tf.equal(tf.argmax(logits, 1), tf.argmax(y, 1))\n",
    "accuracy = tf.reduce_mean(tf.cast(correct_pred, tf.float32), name='accuracy')\n",
    "\n",
    "tests.test_conv_net(conv_net)"
   ]
  },
  {
   "cell_type": "markdown",
   "metadata": {},
   "source": [
    "## Train the Neural Network\n",
    "### Single Optimization\n",
    "Implement the function `train_neural_network` to do a single optimization.  The optimization should use `optimizer` to optimize in `session` with a `feed_dict` of the following:\n",
    "* `x` for image input\n",
    "* `y` for labels\n",
    "* `keep_prob` for keep probability for dropout\n",
    "\n",
    "This function will be called for each batch, so `tf.global_variables_initializer()` has already been called.\n",
    "\n",
    "Note: Nothing needs to be returned. This function is only optimizing the neural network."
   ]
  },
  {
   "cell_type": "code",
   "execution_count": 17,
   "metadata": {
    "collapsed": false
   },
   "outputs": [
    {
     "name": "stdout",
     "output_type": "stream",
     "text": [
      "Tests Passed\n"
     ]
    }
   ],
   "source": [
    "def train_neural_network(session, optimizer, keep_probability, feature_batch, label_batch):\n",
    "    \"\"\"\n",
    "    Optimize the session on a batch of images and labels\n",
    "    : session: Current TensorFlow session\n",
    "    : optimizer: TensorFlow optimizer function\n",
    "    : keep_probability: keep probability\n",
    "    : feature_batch: Batch of Numpy image data\n",
    "    : label_batch: Batch of Numpy label data\n",
    "    \"\"\"\n",
    "    # TODO: Implement Function\n",
    "    feed_dict = { x: feature_batch, y: label_batch, keep_prob: keep_probability }\n",
    "    session.run(optimizer, feed_dict=feed_dict)\n",
    "\n",
    "\n",
    "\"\"\"\n",
    "DON'T MODIFY ANYTHING IN THIS CELL THAT IS BELOW THIS LINE\n",
    "\"\"\"\n",
    "tests.test_train_nn(train_neural_network)"
   ]
  },
  {
   "cell_type": "markdown",
   "metadata": {},
   "source": [
    "### Show Stats\n",
    "Implement the function `print_stats` to print loss and validation accuracy.  Use the global variables `valid_features` and `valid_labels` to calculate validation accuracy.  Use a keep probability of `1.0` to calculate the loss and validation accuracy."
   ]
  },
  {
   "cell_type": "code",
   "execution_count": 18,
   "metadata": {
    "collapsed": true
   },
   "outputs": [],
   "source": [
    "def print_stats(session, feature_batch, label_batch, cost, accuracy):\n",
    "    \"\"\"\n",
    "    Print information about loss and validation accuracy\n",
    "    : session: Current TensorFlow session\n",
    "    : feature_batch: Batch of Numpy image data\n",
    "    : label_batch: Batch of Numpy label data\n",
    "    : cost: TensorFlow cost function\n",
    "    : accuracy: TensorFlow accuracy function\n",
    "    \"\"\"\n",
    "    # TODO: Implement Function\n",
    "    feed_dict_loss = { x: feature_batch, y: label_batch, keep_prob: 1.0 }\n",
    "    loss = session.run(cost, feed_dict=feed_dict_loss)\n",
    "    \n",
    "    feed_dict_accuracy = { x: valid_features, y: valid_labels, keep_prob: 1.0 }\n",
    "    valid_accuracy = session.run(accuracy, feed_dict=feed_dict_accuracy)\n",
    "    \n",
    "    print('Loss: {:.4f} Validation Accuracy: {:.4f}'.format(loss, valid_accuracy))"
   ]
  },
  {
   "cell_type": "markdown",
   "metadata": {},
   "source": [
    "### Hyperparameters\n",
    "Tune the following parameters:\n",
    "* Set `epochs` to the number of iterations until the network stops learning or start overfitting\n",
    "* Set `batch_size` to the highest number that your machine has memory for.  Most people set them to common sizes of memory:\n",
    " * 64\n",
    " * 128\n",
    " * 256\n",
    " * ...\n",
    "* Set `keep_probability` to the probability of keeping a node using dropout"
   ]
  },
  {
   "cell_type": "code",
   "execution_count": 19,
   "metadata": {
    "collapsed": true
   },
   "outputs": [],
   "source": [
    "# TODO: Tune Parameters\n",
    "epochs = 50\n",
    "batch_size = 256\n",
    "keep_probability = 0.7"
   ]
  },
  {
   "cell_type": "markdown",
   "metadata": {},
   "source": [
    "### Train on a Single CIFAR-10 Batch\n",
    "Instead of training the neural network on all the CIFAR-10 batches of data, let's use a single batch. This should save time while you iterate on the model to get a better accuracy.  Once the final validation accuracy is 50% or greater, run the model on all the data in the next section."
   ]
  },
  {
   "cell_type": "code",
   "execution_count": 20,
   "metadata": {
    "collapsed": false
   },
   "outputs": [
    {
     "name": "stdout",
     "output_type": "stream",
     "text": [
      "Checking the Training on a Single Batch...\n",
      "Epoch  1, CIFAR-10 Batch 1:  Loss: 2.0179 Validation Accuracy: 0.2874\n",
      "Epoch  2, CIFAR-10 Batch 1:  Loss: 1.7598 Validation Accuracy: 0.3686\n",
      "Epoch  3, CIFAR-10 Batch 1:  Loss: 1.5589 Validation Accuracy: 0.4180\n",
      "Epoch  4, CIFAR-10 Batch 1:  Loss: 1.3636 Validation Accuracy: 0.4586\n",
      "Epoch  5, CIFAR-10 Batch 1:  Loss: 1.2315 Validation Accuracy: 0.4472\n",
      "Epoch  6, CIFAR-10 Batch 1:  Loss: 1.1051 Validation Accuracy: 0.4932\n",
      "Epoch  7, CIFAR-10 Batch 1:  Loss: 0.9409 Validation Accuracy: 0.5106\n",
      "Epoch  8, CIFAR-10 Batch 1:  Loss: 0.8082 Validation Accuracy: 0.5290\n",
      "Epoch  9, CIFAR-10 Batch 1:  Loss: 0.7381 Validation Accuracy: 0.5236\n",
      "Epoch 10, CIFAR-10 Batch 1:  Loss: 0.6395 Validation Accuracy: 0.5258\n",
      "Epoch 11, CIFAR-10 Batch 1:  Loss: 0.5858 Validation Accuracy: 0.5346\n",
      "Epoch 12, CIFAR-10 Batch 1:  Loss: 0.5481 Validation Accuracy: 0.5444\n",
      "Epoch 13, CIFAR-10 Batch 1:  Loss: 0.5108 Validation Accuracy: 0.5528\n",
      "Epoch 14, CIFAR-10 Batch 1:  Loss: 0.4446 Validation Accuracy: 0.5492\n",
      "Epoch 15, CIFAR-10 Batch 1:  Loss: 0.3885 Validation Accuracy: 0.5590\n",
      "Epoch 16, CIFAR-10 Batch 1:  Loss: 0.3586 Validation Accuracy: 0.5556\n",
      "Epoch 17, CIFAR-10 Batch 1:  Loss: 0.3015 Validation Accuracy: 0.5572\n",
      "Epoch 18, CIFAR-10 Batch 1:  Loss: 0.3520 Validation Accuracy: 0.5540\n",
      "Epoch 19, CIFAR-10 Batch 1:  Loss: 0.2851 Validation Accuracy: 0.5712\n",
      "Epoch 20, CIFAR-10 Batch 1:  Loss: 0.2213 Validation Accuracy: 0.5774\n",
      "Epoch 21, CIFAR-10 Batch 1:  Loss: 0.2243 Validation Accuracy: 0.5708\n",
      "Epoch 22, CIFAR-10 Batch 1:  Loss: 0.2198 Validation Accuracy: 0.5730\n",
      "Epoch 23, CIFAR-10 Batch 1:  Loss: 0.1601 Validation Accuracy: 0.5840\n",
      "Epoch 24, CIFAR-10 Batch 1:  Loss: 0.1602 Validation Accuracy: 0.5824\n",
      "Epoch 25, CIFAR-10 Batch 1:  Loss: 0.1369 Validation Accuracy: 0.5748\n",
      "Epoch 26, CIFAR-10 Batch 1:  Loss: 0.1346 Validation Accuracy: 0.5700\n",
      "Epoch 27, CIFAR-10 Batch 1:  Loss: 0.1559 Validation Accuracy: 0.5664\n",
      "Epoch 28, CIFAR-10 Batch 1:  Loss: 0.1273 Validation Accuracy: 0.5760\n",
      "Epoch 29, CIFAR-10 Batch 1:  Loss: 0.0912 Validation Accuracy: 0.5820\n",
      "Epoch 30, CIFAR-10 Batch 1:  Loss: 0.0706 Validation Accuracy: 0.5728\n",
      "Epoch 31, CIFAR-10 Batch 1:  Loss: 0.0951 Validation Accuracy: 0.5606\n",
      "Epoch 32, CIFAR-10 Batch 1:  Loss: 0.0850 Validation Accuracy: 0.5380\n",
      "Epoch 33, CIFAR-10 Batch 1:  Loss: 0.0724 Validation Accuracy: 0.5400\n",
      "Epoch 34, CIFAR-10 Batch 1:  Loss: 0.0801 Validation Accuracy: 0.5624\n",
      "Epoch 35, CIFAR-10 Batch 1:  Loss: 0.0900 Validation Accuracy: 0.5436\n",
      "Epoch 36, CIFAR-10 Batch 1:  Loss: 0.0712 Validation Accuracy: 0.5664\n",
      "Epoch 37, CIFAR-10 Batch 1:  Loss: 0.0499 Validation Accuracy: 0.5698\n",
      "Epoch 38, CIFAR-10 Batch 1:  Loss: 0.0361 Validation Accuracy: 0.5690\n",
      "Epoch 39, CIFAR-10 Batch 1:  Loss: 0.0305 Validation Accuracy: 0.5586\n",
      "Epoch 40, CIFAR-10 Batch 1:  Loss: 0.0286 Validation Accuracy: 0.5500\n",
      "Epoch 41, CIFAR-10 Batch 1:  Loss: 0.0372 Validation Accuracy: 0.5794\n",
      "Epoch 42, CIFAR-10 Batch 1:  Loss: 0.0341 Validation Accuracy: 0.5754\n",
      "Epoch 43, CIFAR-10 Batch 1:  Loss: 0.0207 Validation Accuracy: 0.5894\n",
      "Epoch 44, CIFAR-10 Batch 1:  Loss: 0.0123 Validation Accuracy: 0.5924\n",
      "Epoch 45, CIFAR-10 Batch 1:  Loss: 0.0116 Validation Accuracy: 0.5798\n",
      "Epoch 46, CIFAR-10 Batch 1:  Loss: 0.0144 Validation Accuracy: 0.5874\n",
      "Epoch 47, CIFAR-10 Batch 1:  Loss: 0.0188 Validation Accuracy: 0.5756\n",
      "Epoch 48, CIFAR-10 Batch 1:  Loss: 0.0167 Validation Accuracy: 0.5796\n",
      "Epoch 49, CIFAR-10 Batch 1:  Loss: 0.0147 Validation Accuracy: 0.5744\n",
      "Epoch 50, CIFAR-10 Batch 1:  Loss: 0.0218 Validation Accuracy: 0.5764\n"
     ]
    }
   ],
   "source": [
    "\"\"\"\n",
    "DON'T MODIFY ANYTHING IN THIS CELL\n",
    "\"\"\"\n",
    "print('Checking the Training on a Single Batch...')\n",
    "with tf.Session() as sess:\n",
    "    # Initializing the variables\n",
    "    sess.run(tf.global_variables_initializer())\n",
    "    \n",
    "    # Training cycle\n",
    "    for epoch in range(epochs):\n",
    "        batch_i = 1\n",
    "        for batch_features, batch_labels in helper.load_preprocess_training_batch(batch_i, batch_size):\n",
    "            train_neural_network(sess, optimizer, keep_probability, batch_features, batch_labels)\n",
    "        print('Epoch {:>2}, CIFAR-10 Batch {}:  '.format(epoch + 1, batch_i), end='')\n",
    "        print_stats(sess, batch_features, batch_labels, cost, accuracy)"
   ]
  },
  {
   "cell_type": "markdown",
   "metadata": {},
   "source": [
    "### Fully Train the Model\n",
    "Now that you got a good accuracy with a single CIFAR-10 batch, try it with all five batches."
   ]
  },
  {
   "cell_type": "code",
   "execution_count": 21,
   "metadata": {
    "collapsed": false
   },
   "outputs": [
    {
     "name": "stdout",
     "output_type": "stream",
     "text": [
      "Training...\n",
      "Epoch  1, CIFAR-10 Batch 1:  Loss: 2.0575 Validation Accuracy: 0.2876\n",
      "Epoch  1, CIFAR-10 Batch 2:  Loss: 1.6661 Validation Accuracy: 0.3720\n",
      "Epoch  1, CIFAR-10 Batch 3:  Loss: 1.3927 Validation Accuracy: 0.3986\n",
      "Epoch  1, CIFAR-10 Batch 4:  Loss: 1.4373 Validation Accuracy: 0.4414\n",
      "Epoch  1, CIFAR-10 Batch 5:  Loss: 1.3384 Validation Accuracy: 0.4660\n",
      "Epoch  2, CIFAR-10 Batch 1:  Loss: 1.5031 Validation Accuracy: 0.4724\n",
      "Epoch  2, CIFAR-10 Batch 2:  Loss: 1.2322 Validation Accuracy: 0.4912\n",
      "Epoch  2, CIFAR-10 Batch 3:  Loss: 1.0320 Validation Accuracy: 0.5014\n",
      "Epoch  2, CIFAR-10 Batch 4:  Loss: 1.1649 Validation Accuracy: 0.5092\n",
      "Epoch  2, CIFAR-10 Batch 5:  Loss: 1.1418 Validation Accuracy: 0.5272\n",
      "Epoch  3, CIFAR-10 Batch 1:  Loss: 1.1224 Validation Accuracy: 0.5462\n",
      "Epoch  3, CIFAR-10 Batch 2:  Loss: 1.0184 Validation Accuracy: 0.5536\n",
      "Epoch  3, CIFAR-10 Batch 3:  Loss: 0.8563 Validation Accuracy: 0.5452\n",
      "Epoch  3, CIFAR-10 Batch 4:  Loss: 0.8071 Validation Accuracy: 0.5544\n",
      "Epoch  3, CIFAR-10 Batch 5:  Loss: 0.9922 Validation Accuracy: 0.5546\n",
      "Epoch  4, CIFAR-10 Batch 1:  Loss: 0.9726 Validation Accuracy: 0.5668\n",
      "Epoch  4, CIFAR-10 Batch 2:  Loss: 0.8868 Validation Accuracy: 0.5826\n",
      "Epoch  4, CIFAR-10 Batch 3:  Loss: 0.6999 Validation Accuracy: 0.5740\n",
      "Epoch  4, CIFAR-10 Batch 4:  Loss: 0.7113 Validation Accuracy: 0.5838\n",
      "Epoch  4, CIFAR-10 Batch 5:  Loss: 0.7642 Validation Accuracy: 0.6028\n",
      "Epoch  5, CIFAR-10 Batch 1:  Loss: 0.8227 Validation Accuracy: 0.6080\n",
      "Epoch  5, CIFAR-10 Batch 2:  Loss: 0.6983 Validation Accuracy: 0.6222\n",
      "Epoch  5, CIFAR-10 Batch 3:  Loss: 0.5977 Validation Accuracy: 0.6006\n",
      "Epoch  5, CIFAR-10 Batch 4:  Loss: 0.6199 Validation Accuracy: 0.6208\n",
      "Epoch  5, CIFAR-10 Batch 5:  Loss: 0.6662 Validation Accuracy: 0.6244\n",
      "Epoch  6, CIFAR-10 Batch 1:  Loss: 0.7065 Validation Accuracy: 0.6264\n",
      "Epoch  6, CIFAR-10 Batch 2:  Loss: 0.6789 Validation Accuracy: 0.6238\n",
      "Epoch  6, CIFAR-10 Batch 3:  Loss: 0.5285 Validation Accuracy: 0.6296\n",
      "Epoch  6, CIFAR-10 Batch 4:  Loss: 0.4999 Validation Accuracy: 0.6338\n",
      "Epoch  6, CIFAR-10 Batch 5:  Loss: 0.5304 Validation Accuracy: 0.6336\n",
      "Epoch  7, CIFAR-10 Batch 1:  Loss: 0.5666 Validation Accuracy: 0.6300\n",
      "Epoch  7, CIFAR-10 Batch 2:  Loss: 0.5660 Validation Accuracy: 0.6308\n",
      "Epoch  7, CIFAR-10 Batch 3:  Loss: 0.4186 Validation Accuracy: 0.6366\n",
      "Epoch  7, CIFAR-10 Batch 4:  Loss: 0.4374 Validation Accuracy: 0.6546\n",
      "Epoch  7, CIFAR-10 Batch 5:  Loss: 0.4740 Validation Accuracy: 0.6458\n",
      "Epoch  8, CIFAR-10 Batch 1:  Loss: 0.4688 Validation Accuracy: 0.6444\n",
      "Epoch  8, CIFAR-10 Batch 2:  Loss: 0.4694 Validation Accuracy: 0.6516\n",
      "Epoch  8, CIFAR-10 Batch 3:  Loss: 0.3041 Validation Accuracy: 0.6610\n",
      "Epoch  8, CIFAR-10 Batch 4:  Loss: 0.4240 Validation Accuracy: 0.6446\n",
      "Epoch  8, CIFAR-10 Batch 5:  Loss: 0.3739 Validation Accuracy: 0.6656\n",
      "Epoch  9, CIFAR-10 Batch 1:  Loss: 0.4397 Validation Accuracy: 0.6428\n",
      "Epoch  9, CIFAR-10 Batch 2:  Loss: 0.3970 Validation Accuracy: 0.6620\n",
      "Epoch  9, CIFAR-10 Batch 3:  Loss: 0.2832 Validation Accuracy: 0.6766\n",
      "Epoch  9, CIFAR-10 Batch 4:  Loss: 0.3124 Validation Accuracy: 0.6596\n",
      "Epoch  9, CIFAR-10 Batch 5:  Loss: 0.3369 Validation Accuracy: 0.6838\n",
      "Epoch 10, CIFAR-10 Batch 1:  Loss: 0.3981 Validation Accuracy: 0.6572\n",
      "Epoch 10, CIFAR-10 Batch 2:  Loss: 0.3545 Validation Accuracy: 0.6734\n",
      "Epoch 10, CIFAR-10 Batch 3:  Loss: 0.2567 Validation Accuracy: 0.6726\n",
      "Epoch 10, CIFAR-10 Batch 4:  Loss: 0.2653 Validation Accuracy: 0.6644\n",
      "Epoch 10, CIFAR-10 Batch 5:  Loss: 0.2986 Validation Accuracy: 0.6822\n",
      "Epoch 11, CIFAR-10 Batch 1:  Loss: 0.3114 Validation Accuracy: 0.6792\n",
      "Epoch 11, CIFAR-10 Batch 2:  Loss: 0.3201 Validation Accuracy: 0.6604\n",
      "Epoch 11, CIFAR-10 Batch 3:  Loss: 0.2187 Validation Accuracy: 0.6752\n",
      "Epoch 11, CIFAR-10 Batch 4:  Loss: 0.2391 Validation Accuracy: 0.6762\n",
      "Epoch 11, CIFAR-10 Batch 5:  Loss: 0.2508 Validation Accuracy: 0.6880\n",
      "Epoch 12, CIFAR-10 Batch 1:  Loss: 0.2536 Validation Accuracy: 0.6688\n",
      "Epoch 12, CIFAR-10 Batch 2:  Loss: 0.2814 Validation Accuracy: 0.6640\n",
      "Epoch 12, CIFAR-10 Batch 3:  Loss: 0.1940 Validation Accuracy: 0.6826\n",
      "Epoch 12, CIFAR-10 Batch 4:  Loss: 0.2319 Validation Accuracy: 0.6716\n",
      "Epoch 12, CIFAR-10 Batch 5:  Loss: 0.2284 Validation Accuracy: 0.6600\n",
      "Epoch 13, CIFAR-10 Batch 1:  Loss: 0.2495 Validation Accuracy: 0.6732\n",
      "Epoch 13, CIFAR-10 Batch 2:  Loss: 0.2455 Validation Accuracy: 0.6814\n",
      "Epoch 13, CIFAR-10 Batch 3:  Loss: 0.1603 Validation Accuracy: 0.6894\n",
      "Epoch 13, CIFAR-10 Batch 4:  Loss: 0.2190 Validation Accuracy: 0.6884\n",
      "Epoch 13, CIFAR-10 Batch 5:  Loss: 0.2149 Validation Accuracy: 0.6788\n",
      "Epoch 14, CIFAR-10 Batch 1:  Loss: 0.2230 Validation Accuracy: 0.6780\n",
      "Epoch 14, CIFAR-10 Batch 2:  Loss: 0.2423 Validation Accuracy: 0.6828\n",
      "Epoch 14, CIFAR-10 Batch 3:  Loss: 0.1744 Validation Accuracy: 0.6808\n",
      "Epoch 14, CIFAR-10 Batch 4:  Loss: 0.2140 Validation Accuracy: 0.6590\n",
      "Epoch 14, CIFAR-10 Batch 5:  Loss: 0.1994 Validation Accuracy: 0.6846\n",
      "Epoch 15, CIFAR-10 Batch 1:  Loss: 0.2115 Validation Accuracy: 0.6708\n",
      "Epoch 15, CIFAR-10 Batch 2:  Loss: 0.2005 Validation Accuracy: 0.6854\n",
      "Epoch 15, CIFAR-10 Batch 3:  Loss: 0.1214 Validation Accuracy: 0.6892\n",
      "Epoch 15, CIFAR-10 Batch 4:  Loss: 0.1970 Validation Accuracy: 0.6846\n",
      "Epoch 15, CIFAR-10 Batch 5:  Loss: 0.1830 Validation Accuracy: 0.6832\n",
      "Epoch 16, CIFAR-10 Batch 1:  Loss: 0.1874 Validation Accuracy: 0.6884\n",
      "Epoch 16, CIFAR-10 Batch 2:  Loss: 0.1826 Validation Accuracy: 0.6794\n",
      "Epoch 16, CIFAR-10 Batch 3:  Loss: 0.0968 Validation Accuracy: 0.6898\n",
      "Epoch 16, CIFAR-10 Batch 4:  Loss: 0.1793 Validation Accuracy: 0.6814\n",
      "Epoch 16, CIFAR-10 Batch 5:  Loss: 0.1371 Validation Accuracy: 0.6960\n",
      "Epoch 17, CIFAR-10 Batch 1:  Loss: 0.1622 Validation Accuracy: 0.6934\n",
      "Epoch 17, CIFAR-10 Batch 2:  Loss: 0.1777 Validation Accuracy: 0.6826\n",
      "Epoch 17, CIFAR-10 Batch 3:  Loss: 0.1268 Validation Accuracy: 0.6864\n",
      "Epoch 17, CIFAR-10 Batch 4:  Loss: 0.1695 Validation Accuracy: 0.6688\n",
      "Epoch 17, CIFAR-10 Batch 5:  Loss: 0.1670 Validation Accuracy: 0.6850\n",
      "Epoch 18, CIFAR-10 Batch 1:  Loss: 0.1448 Validation Accuracy: 0.6952\n",
      "Epoch 18, CIFAR-10 Batch 2:  Loss: 0.1575 Validation Accuracy: 0.6828\n",
      "Epoch 18, CIFAR-10 Batch 3:  Loss: 0.1030 Validation Accuracy: 0.6904\n",
      "Epoch 18, CIFAR-10 Batch 4:  Loss: 0.1190 Validation Accuracy: 0.7060\n",
      "Epoch 18, CIFAR-10 Batch 5:  Loss: 0.1222 Validation Accuracy: 0.6918\n",
      "Epoch 19, CIFAR-10 Batch 1:  Loss: 0.1281 Validation Accuracy: 0.7090\n",
      "Epoch 19, CIFAR-10 Batch 2:  Loss: 0.1443 Validation Accuracy: 0.6914\n",
      "Epoch 19, CIFAR-10 Batch 3:  Loss: 0.0618 Validation Accuracy: 0.6938\n",
      "Epoch 19, CIFAR-10 Batch 4:  Loss: 0.1245 Validation Accuracy: 0.7012\n",
      "Epoch 19, CIFAR-10 Batch 5:  Loss: 0.0991 Validation Accuracy: 0.7000\n",
      "Epoch 20, CIFAR-10 Batch 1:  Loss: 0.1026 Validation Accuracy: 0.7118\n",
      "Epoch 20, CIFAR-10 Batch 2:  Loss: 0.1133 Validation Accuracy: 0.6956\n",
      "Epoch 20, CIFAR-10 Batch 3:  Loss: 0.0571 Validation Accuracy: 0.6932\n",
      "Epoch 20, CIFAR-10 Batch 4:  Loss: 0.1064 Validation Accuracy: 0.6894\n",
      "Epoch 20, CIFAR-10 Batch 5:  Loss: 0.1031 Validation Accuracy: 0.6964\n",
      "Epoch 21, CIFAR-10 Batch 1:  Loss: 0.1164 Validation Accuracy: 0.7102\n",
      "Epoch 21, CIFAR-10 Batch 2:  Loss: 0.1276 Validation Accuracy: 0.6932\n",
      "Epoch 21, CIFAR-10 Batch 3:  Loss: 0.0746 Validation Accuracy: 0.6800\n",
      "Epoch 21, CIFAR-10 Batch 4:  Loss: 0.0854 Validation Accuracy: 0.6928\n",
      "Epoch 21, CIFAR-10 Batch 5:  Loss: 0.0809 Validation Accuracy: 0.7030\n",
      "Epoch 22, CIFAR-10 Batch 1:  Loss: 0.0868 Validation Accuracy: 0.7110\n",
      "Epoch 22, CIFAR-10 Batch 2:  Loss: 0.1350 Validation Accuracy: 0.6912\n",
      "Epoch 22, CIFAR-10 Batch 3:  Loss: 0.0410 Validation Accuracy: 0.6934\n",
      "Epoch 22, CIFAR-10 Batch 4:  Loss: 0.0715 Validation Accuracy: 0.7024\n",
      "Epoch 22, CIFAR-10 Batch 5:  Loss: 0.1260 Validation Accuracy: 0.6950\n",
      "Epoch 23, CIFAR-10 Batch 1:  Loss: 0.0817 Validation Accuracy: 0.7010\n",
      "Epoch 23, CIFAR-10 Batch 2:  Loss: 0.1037 Validation Accuracy: 0.6936\n",
      "Epoch 23, CIFAR-10 Batch 3:  Loss: 0.0406 Validation Accuracy: 0.6888\n",
      "Epoch 23, CIFAR-10 Batch 4:  Loss: 0.0741 Validation Accuracy: 0.7014\n",
      "Epoch 23, CIFAR-10 Batch 5:  Loss: 0.0845 Validation Accuracy: 0.6970\n",
      "Epoch 24, CIFAR-10 Batch 1:  Loss: 0.1092 Validation Accuracy: 0.6932\n",
      "Epoch 24, CIFAR-10 Batch 2:  Loss: 0.1039 Validation Accuracy: 0.6856\n",
      "Epoch 24, CIFAR-10 Batch 3:  Loss: 0.0527 Validation Accuracy: 0.6692\n",
      "Epoch 24, CIFAR-10 Batch 4:  Loss: 0.0752 Validation Accuracy: 0.6984\n",
      "Epoch 24, CIFAR-10 Batch 5:  Loss: 0.0795 Validation Accuracy: 0.6908\n",
      "Epoch 25, CIFAR-10 Batch 1:  Loss: 0.1160 Validation Accuracy: 0.6832\n",
      "Epoch 25, CIFAR-10 Batch 2:  Loss: 0.1015 Validation Accuracy: 0.6918\n",
      "Epoch 25, CIFAR-10 Batch 3:  Loss: 0.0749 Validation Accuracy: 0.6468\n",
      "Epoch 25, CIFAR-10 Batch 4:  Loss: 0.0659 Validation Accuracy: 0.6990\n",
      "Epoch 25, CIFAR-10 Batch 5:  Loss: 0.1001 Validation Accuracy: 0.6732\n",
      "Epoch 26, CIFAR-10 Batch 1:  Loss: 0.1031 Validation Accuracy: 0.6816\n",
      "Epoch 26, CIFAR-10 Batch 2:  Loss: 0.0718 Validation Accuracy: 0.7048\n",
      "Epoch 26, CIFAR-10 Batch 3:  Loss: 0.0701 Validation Accuracy: 0.6590\n",
      "Epoch 26, CIFAR-10 Batch 4:  Loss: 0.0636 Validation Accuracy: 0.6954\n",
      "Epoch 26, CIFAR-10 Batch 5:  Loss: 0.0637 Validation Accuracy: 0.6754\n",
      "Epoch 27, CIFAR-10 Batch 1:  Loss: 0.0986 Validation Accuracy: 0.6846\n",
      "Epoch 27, CIFAR-10 Batch 2:  Loss: 0.0804 Validation Accuracy: 0.6966\n",
      "Epoch 27, CIFAR-10 Batch 3:  Loss: 0.0393 Validation Accuracy: 0.6724\n",
      "Epoch 27, CIFAR-10 Batch 4:  Loss: 0.0639 Validation Accuracy: 0.6996\n",
      "Epoch 27, CIFAR-10 Batch 5:  Loss: 0.0647 Validation Accuracy: 0.6864\n",
      "Epoch 28, CIFAR-10 Batch 1:  Loss: 0.0702 Validation Accuracy: 0.6858\n",
      "Epoch 28, CIFAR-10 Batch 2:  Loss: 0.0792 Validation Accuracy: 0.6922\n",
      "Epoch 28, CIFAR-10 Batch 3:  Loss: 0.0458 Validation Accuracy: 0.6694\n",
      "Epoch 28, CIFAR-10 Batch 4:  Loss: 0.0666 Validation Accuracy: 0.6984\n",
      "Epoch 28, CIFAR-10 Batch 5:  Loss: 0.0671 Validation Accuracy: 0.6844\n",
      "Epoch 29, CIFAR-10 Batch 1:  Loss: 0.0816 Validation Accuracy: 0.6730\n",
      "Epoch 29, CIFAR-10 Batch 2:  Loss: 0.0827 Validation Accuracy: 0.6882\n",
      "Epoch 29, CIFAR-10 Batch 3:  Loss: 0.0321 Validation Accuracy: 0.6698\n",
      "Epoch 29, CIFAR-10 Batch 4:  Loss: 0.0652 Validation Accuracy: 0.6992\n",
      "Epoch 29, CIFAR-10 Batch 5:  Loss: 0.0512 Validation Accuracy: 0.6910\n",
      "Epoch 30, CIFAR-10 Batch 1:  Loss: 0.1136 Validation Accuracy: 0.6748\n",
      "Epoch 30, CIFAR-10 Batch 2:  Loss: 0.0984 Validation Accuracy: 0.6774\n",
      "Epoch 30, CIFAR-10 Batch 3:  Loss: 0.0280 Validation Accuracy: 0.6942\n",
      "Epoch 30, CIFAR-10 Batch 4:  Loss: 0.0854 Validation Accuracy: 0.7044\n",
      "Epoch 30, CIFAR-10 Batch 5:  Loss: 0.0416 Validation Accuracy: 0.7026\n",
      "Epoch 31, CIFAR-10 Batch 1:  Loss: 0.0725 Validation Accuracy: 0.6632\n",
      "Epoch 31, CIFAR-10 Batch 2:  Loss: 0.0651 Validation Accuracy: 0.6716\n",
      "Epoch 31, CIFAR-10 Batch 3:  Loss: 0.0240 Validation Accuracy: 0.6984\n",
      "Epoch 31, CIFAR-10 Batch 4:  Loss: 0.0625 Validation Accuracy: 0.6894\n",
      "Epoch 31, CIFAR-10 Batch 5:  Loss: 0.0410 Validation Accuracy: 0.6964\n",
      "Epoch 32, CIFAR-10 Batch 1:  Loss: 0.0739 Validation Accuracy: 0.6922\n",
      "Epoch 32, CIFAR-10 Batch 2:  Loss: 0.0672 Validation Accuracy: 0.6746\n",
      "Epoch 32, CIFAR-10 Batch 3:  Loss: 0.0309 Validation Accuracy: 0.7014\n",
      "Epoch 32, CIFAR-10 Batch 4:  Loss: 0.0645 Validation Accuracy: 0.6898\n",
      "Epoch 32, CIFAR-10 Batch 5:  Loss: 0.0400 Validation Accuracy: 0.6954\n",
      "Epoch 33, CIFAR-10 Batch 1:  Loss: 0.0459 Validation Accuracy: 0.6984\n",
      "Epoch 33, CIFAR-10 Batch 2:  Loss: 0.0457 Validation Accuracy: 0.6926\n",
      "Epoch 33, CIFAR-10 Batch 3:  Loss: 0.0278 Validation Accuracy: 0.7068\n",
      "Epoch 33, CIFAR-10 Batch 4:  Loss: 0.0456 Validation Accuracy: 0.6930\n",
      "Epoch 33, CIFAR-10 Batch 5:  Loss: 0.0263 Validation Accuracy: 0.7002\n",
      "Epoch 34, CIFAR-10 Batch 1:  Loss: 0.0337 Validation Accuracy: 0.6950\n",
      "Epoch 34, CIFAR-10 Batch 2:  Loss: 0.0711 Validation Accuracy: 0.6828\n",
      "Epoch 34, CIFAR-10 Batch 3:  Loss: 0.0346 Validation Accuracy: 0.7062\n",
      "Epoch 34, CIFAR-10 Batch 4:  Loss: 0.0452 Validation Accuracy: 0.6884\n",
      "Epoch 34, CIFAR-10 Batch 5:  Loss: 0.0229 Validation Accuracy: 0.7110\n",
      "Epoch 35, CIFAR-10 Batch 1:  Loss: 0.0328 Validation Accuracy: 0.7098\n",
      "Epoch 35, CIFAR-10 Batch 2:  Loss: 0.0350 Validation Accuracy: 0.6868\n",
      "Epoch 35, CIFAR-10 Batch 3:  Loss: 0.0325 Validation Accuracy: 0.7016\n",
      "Epoch 35, CIFAR-10 Batch 4:  Loss: 0.0307 Validation Accuracy: 0.7050\n",
      "Epoch 35, CIFAR-10 Batch 5:  Loss: 0.0316 Validation Accuracy: 0.7058\n",
      "Epoch 36, CIFAR-10 Batch 1:  Loss: 0.0325 Validation Accuracy: 0.7036\n",
      "Epoch 36, CIFAR-10 Batch 2:  Loss: 0.0594 Validation Accuracy: 0.6866\n",
      "Epoch 36, CIFAR-10 Batch 3:  Loss: 0.0296 Validation Accuracy: 0.6992\n",
      "Epoch 36, CIFAR-10 Batch 4:  Loss: 0.0294 Validation Accuracy: 0.6972\n",
      "Epoch 36, CIFAR-10 Batch 5:  Loss: 0.0243 Validation Accuracy: 0.7216\n",
      "Epoch 37, CIFAR-10 Batch 1:  Loss: 0.0293 Validation Accuracy: 0.6956\n",
      "Epoch 37, CIFAR-10 Batch 2:  Loss: 0.0323 Validation Accuracy: 0.6986\n",
      "Epoch 37, CIFAR-10 Batch 3:  Loss: 0.0340 Validation Accuracy: 0.6978\n",
      "Epoch 37, CIFAR-10 Batch 4:  Loss: 0.0280 Validation Accuracy: 0.6990\n",
      "Epoch 37, CIFAR-10 Batch 5:  Loss: 0.0162 Validation Accuracy: 0.7132\n",
      "Epoch 38, CIFAR-10 Batch 1:  Loss: 0.0198 Validation Accuracy: 0.6976\n",
      "Epoch 38, CIFAR-10 Batch 2:  Loss: 0.0397 Validation Accuracy: 0.6676\n",
      "Epoch 38, CIFAR-10 Batch 3:  Loss: 0.0166 Validation Accuracy: 0.6994\n",
      "Epoch 38, CIFAR-10 Batch 4:  Loss: 0.0317 Validation Accuracy: 0.6926\n",
      "Epoch 38, CIFAR-10 Batch 5:  Loss: 0.0231 Validation Accuracy: 0.7126\n",
      "Epoch 39, CIFAR-10 Batch 1:  Loss: 0.0226 Validation Accuracy: 0.6948\n",
      "Epoch 39, CIFAR-10 Batch 2:  Loss: 0.0338 Validation Accuracy: 0.6822\n",
      "Epoch 39, CIFAR-10 Batch 3:  Loss: 0.0223 Validation Accuracy: 0.6922\n",
      "Epoch 39, CIFAR-10 Batch 4:  Loss: 0.0347 Validation Accuracy: 0.6806\n",
      "Epoch 39, CIFAR-10 Batch 5:  Loss: 0.0230 Validation Accuracy: 0.7090\n",
      "Epoch 40, CIFAR-10 Batch 1:  Loss: 0.0174 Validation Accuracy: 0.7080\n",
      "Epoch 40, CIFAR-10 Batch 2:  Loss: 0.0377 Validation Accuracy: 0.6796\n",
      "Epoch 40, CIFAR-10 Batch 3:  Loss: 0.0201 Validation Accuracy: 0.7018\n",
      "Epoch 40, CIFAR-10 Batch 4:  Loss: 0.0210 Validation Accuracy: 0.6904\n",
      "Epoch 40, CIFAR-10 Batch 5:  Loss: 0.0209 Validation Accuracy: 0.7026\n",
      "Epoch 41, CIFAR-10 Batch 1:  Loss: 0.0203 Validation Accuracy: 0.7084\n",
      "Epoch 41, CIFAR-10 Batch 2:  Loss: 0.0230 Validation Accuracy: 0.6770\n",
      "Epoch 41, CIFAR-10 Batch 3:  Loss: 0.0119 Validation Accuracy: 0.6948\n",
      "Epoch 41, CIFAR-10 Batch 4:  Loss: 0.0132 Validation Accuracy: 0.6962\n",
      "Epoch 41, CIFAR-10 Batch 5:  Loss: 0.0120 Validation Accuracy: 0.7082\n",
      "Epoch 42, CIFAR-10 Batch 1:  Loss: 0.0166 Validation Accuracy: 0.7056\n",
      "Epoch 42, CIFAR-10 Batch 2:  Loss: 0.0352 Validation Accuracy: 0.6882\n",
      "Epoch 42, CIFAR-10 Batch 3:  Loss: 0.0243 Validation Accuracy: 0.7030\n",
      "Epoch 42, CIFAR-10 Batch 4:  Loss: 0.0243 Validation Accuracy: 0.6928\n",
      "Epoch 42, CIFAR-10 Batch 5:  Loss: 0.0251 Validation Accuracy: 0.6806\n",
      "Epoch 43, CIFAR-10 Batch 1:  Loss: 0.0160 Validation Accuracy: 0.7048\n",
      "Epoch 43, CIFAR-10 Batch 2:  Loss: 0.0184 Validation Accuracy: 0.6916\n",
      "Epoch 43, CIFAR-10 Batch 3:  Loss: 0.0149 Validation Accuracy: 0.6994\n",
      "Epoch 43, CIFAR-10 Batch 4:  Loss: 0.0134 Validation Accuracy: 0.7024\n",
      "Epoch 43, CIFAR-10 Batch 5:  Loss: 0.0261 Validation Accuracy: 0.6870\n",
      "Epoch 44, CIFAR-10 Batch 1:  Loss: 0.0220 Validation Accuracy: 0.6942\n",
      "Epoch 44, CIFAR-10 Batch 2:  Loss: 0.0207 Validation Accuracy: 0.6916\n",
      "Epoch 44, CIFAR-10 Batch 3:  Loss: 0.0122 Validation Accuracy: 0.6916\n",
      "Epoch 44, CIFAR-10 Batch 4:  Loss: 0.0087 Validation Accuracy: 0.6866\n",
      "Epoch 44, CIFAR-10 Batch 5:  Loss: 0.0182 Validation Accuracy: 0.6890\n",
      "Epoch 45, CIFAR-10 Batch 1:  Loss: 0.0139 Validation Accuracy: 0.7142\n",
      "Epoch 45, CIFAR-10 Batch 2:  Loss: 0.0266 Validation Accuracy: 0.6960\n",
      "Epoch 45, CIFAR-10 Batch 3:  Loss: 0.0137 Validation Accuracy: 0.7038\n",
      "Epoch 45, CIFAR-10 Batch 4:  Loss: 0.0186 Validation Accuracy: 0.6866\n",
      "Epoch 45, CIFAR-10 Batch 5:  Loss: 0.0110 Validation Accuracy: 0.7020\n",
      "Epoch 46, CIFAR-10 Batch 1:  Loss: 0.0418 Validation Accuracy: 0.7030\n",
      "Epoch 46, CIFAR-10 Batch 2:  Loss: 0.0389 Validation Accuracy: 0.6806\n",
      "Epoch 46, CIFAR-10 Batch 3:  Loss: 0.0239 Validation Accuracy: 0.6852\n",
      "Epoch 46, CIFAR-10 Batch 4:  Loss: 0.0117 Validation Accuracy: 0.6930\n",
      "Epoch 46, CIFAR-10 Batch 5:  Loss: 0.0152 Validation Accuracy: 0.6930\n",
      "Epoch 47, CIFAR-10 Batch 1:  Loss: 0.0280 Validation Accuracy: 0.7064\n",
      "Epoch 47, CIFAR-10 Batch 2:  Loss: 0.0380 Validation Accuracy: 0.6646\n",
      "Epoch 47, CIFAR-10 Batch 3:  Loss: 0.0170 Validation Accuracy: 0.7014\n",
      "Epoch 47, CIFAR-10 Batch 4:  Loss: 0.0222 Validation Accuracy: 0.6640\n",
      "Epoch 47, CIFAR-10 Batch 5:  Loss: 0.0138 Validation Accuracy: 0.7016\n",
      "Epoch 48, CIFAR-10 Batch 1:  Loss: 0.0195 Validation Accuracy: 0.7036\n",
      "Epoch 48, CIFAR-10 Batch 2:  Loss: 0.0204 Validation Accuracy: 0.6850\n",
      "Epoch 48, CIFAR-10 Batch 3:  Loss: 0.0113 Validation Accuracy: 0.6996\n",
      "Epoch 48, CIFAR-10 Batch 4:  Loss: 0.0322 Validation Accuracy: 0.6948\n",
      "Epoch 48, CIFAR-10 Batch 5:  Loss: 0.0105 Validation Accuracy: 0.7102\n",
      "Epoch 49, CIFAR-10 Batch 1:  Loss: 0.0196 Validation Accuracy: 0.7036\n",
      "Epoch 49, CIFAR-10 Batch 2:  Loss: 0.0299 Validation Accuracy: 0.6720\n",
      "Epoch 49, CIFAR-10 Batch 3:  Loss: 0.0117 Validation Accuracy: 0.6984\n",
      "Epoch 49, CIFAR-10 Batch 4:  Loss: 0.0209 Validation Accuracy: 0.7022\n",
      "Epoch 49, CIFAR-10 Batch 5:  Loss: 0.0119 Validation Accuracy: 0.7030\n",
      "Epoch 50, CIFAR-10 Batch 1:  Loss: 0.0189 Validation Accuracy: 0.7100\n",
      "Epoch 50, CIFAR-10 Batch 2:  Loss: 0.0410 Validation Accuracy: 0.6720\n",
      "Epoch 50, CIFAR-10 Batch 3:  Loss: 0.0154 Validation Accuracy: 0.6970\n",
      "Epoch 50, CIFAR-10 Batch 4:  Loss: 0.0135 Validation Accuracy: 0.6988\n",
      "Epoch 50, CIFAR-10 Batch 5:  Loss: 0.0142 Validation Accuracy: 0.6918\n"
     ]
    }
   ],
   "source": [
    "\"\"\"\n",
    "DON'T MODIFY ANYTHING IN THIS CELL\n",
    "\"\"\"\n",
    "save_model_path = './image_classification'\n",
    "\n",
    "print('Training...')\n",
    "with tf.Session() as sess:\n",
    "    # Initializing the variables\n",
    "    sess.run(tf.global_variables_initializer())\n",
    "    \n",
    "    # Training cycle\n",
    "    for epoch in range(epochs):\n",
    "        # Loop over all batches\n",
    "        n_batches = 5\n",
    "        for batch_i in range(1, n_batches + 1):\n",
    "            for batch_features, batch_labels in helper.load_preprocess_training_batch(batch_i, batch_size):\n",
    "                train_neural_network(sess, optimizer, keep_probability, batch_features, batch_labels)\n",
    "            print('Epoch {:>2}, CIFAR-10 Batch {}:  '.format(epoch + 1, batch_i), end='')\n",
    "            print_stats(sess, batch_features, batch_labels, cost, accuracy)\n",
    "            \n",
    "    # Save Model\n",
    "    saver = tf.train.Saver()\n",
    "    save_path = saver.save(sess, save_model_path)"
   ]
  },
  {
   "cell_type": "markdown",
   "metadata": {},
   "source": [
    "# Checkpoint\n",
    "The model has been saved to disk.\n",
    "## Test Model\n",
    "Test your model against the test dataset.  This will be your final accuracy. You should have an accuracy greater than 50%. If you don't, keep tweaking the model architecture and parameters."
   ]
  },
  {
   "cell_type": "code",
   "execution_count": 22,
   "metadata": {
    "collapsed": false
   },
   "outputs": [
    {
     "name": "stdout",
     "output_type": "stream",
     "text": [
      "Testing Accuracy: 0.69208984375\n",
      "\n"
     ]
    },
    {
     "data": {
      "image/png": "[encoded data removed]",
      "text/plain": [
       "<matplotlib.figure.Figure at 0x1cf16a0f198>"
      ]
     },
     "metadata": {
      "image/png": {
       "height": 319,
       "width": 355
      }
     },
     "output_type": "display_data"
    }
   ],
   "source": [
    "\"\"\"\n",
    "DON'T MODIFY ANYTHING IN THIS CELL\n",
    "\"\"\"\n",
    "%matplotlib inline\n",
    "%config InlineBackend.figure_format = 'retina'\n",
    "\n",
    "import tensorflow as tf\n",
    "import pickle\n",
    "import helper\n",
    "import random\n",
    "\n",
    "# Set batch size if not already set\n",
    "try:\n",
    "    if batch_size:\n",
    "        pass\n",
    "except NameError:\n",
    "    batch_size = 64\n",
    "\n",
    "save_model_path = './image_classification'\n",
    "n_samples = 4\n",
    "top_n_predictions = 3\n",
    "\n",
    "def test_model():\n",
    "    \"\"\"\n",
    "    Test the saved model against the test dataset\n",
    "    \"\"\"\n",
    "\n",
    "    test_features, test_labels = pickle.load(open('preprocess_test.p', mode='rb'))\n",
    "    loaded_graph = tf.Graph()\n",
    "\n",
    "    with tf.Session(graph=loaded_graph) as sess:\n",
    "        # Load model\n",
    "        loader = tf.train.import_meta_graph(save_model_path + '.meta')\n",
    "        loader.restore(sess, save_model_path)\n",
    "\n",
    "        # Get Tensors from loaded model\n",
    "        loaded_x = loaded_graph.get_tensor_by_name('x:0')\n",
    "        loaded_y = loaded_graph.get_tensor_by_name('y:0')\n",
    "        loaded_keep_prob = loaded_graph.get_tensor_by_name('keep_prob:0')\n",
    "        loaded_logits = loaded_graph.get_tensor_by_name('logits:0')\n",
    "        loaded_acc = loaded_graph.get_tensor_by_name('accuracy:0')\n",
    "        \n",
    "        # Get accuracy in batches for memory limitations\n",
    "        test_batch_acc_total = 0\n",
    "        test_batch_count = 0\n",
    "        \n",
    "        for test_feature_batch, test_label_batch in helper.batch_features_labels(test_features, test_labels, batch_size):\n",
    "            test_batch_acc_total += sess.run(\n",
    "                loaded_acc,\n",
    "                feed_dict={loaded_x: test_feature_batch, loaded_y: test_label_batch, loaded_keep_prob: 1.0})\n",
    "            test_batch_count += 1\n",
    "\n",
    "        print('Testing Accuracy: {}\\n'.format(test_batch_acc_total/test_batch_count))\n",
    "\n",
    "        # Print Random Samples\n",
    "        random_test_features, random_test_labels = tuple(zip(*random.sample(list(zip(test_features, test_labels)), n_samples)))\n",
    "        random_test_predictions = sess.run(\n",
    "            tf.nn.top_k(tf.nn.softmax(loaded_logits), top_n_predictions),\n",
    "            feed_dict={loaded_x: random_test_features, loaded_y: random_test_labels, loaded_keep_prob: 1.0})\n",
    "        helper.display_image_predictions(random_test_features, random_test_labels, random_test_predictions)\n",
    "\n",
    "\n",
    "test_model()"
   ]
  },
  {
   "cell_type": "markdown",
   "metadata": {},
   "source": [
    "## Why 50-80% Accuracy?\n",
    "You might be wondering why you can't get an accuracy any higher. First things first, 50% isn't bad for a simple CNN.  Pure guessing would get you 10% accuracy. However, you might notice people are getting scores [well above 80%](http://rodrigob.github.io/are_we_there_yet/build/classification_datasets_results.html#43494641522d3130).  That's because we haven't taught you all there is to know about neural networks. We still need to cover a few more techniques.\n",
    "## Submitting This Project\n",
    "When submitting this project, make sure to run all the cells before saving the notebook.  Save the notebook file as \"dlnd_image_classification.ipynb\" and save it as a HTML file under \"File\" -> \"Download as\".  Include the \"helper.py\" and \"problem_unittests.py\" files in your submission."
   ]
  }
 ],
 "metadata": {
  "kernelspec": {
   "display_name": "Python 3",
   "language": "python",
   "name": "python3"
  },
  "language_info": {
   "codemirror_mode": {
    "name": "ipython",
    "version": 3
   },
   "file_extension": ".py",
   "mimetype": "text/x-python",
   "name": "python",
   "nbconvert_exporter": "python",
   "pygments_lexer": "ipython3",
   "version": "3.5.2"
  }
 },
 "nbformat": 4,
 "nbformat_minor": 1
}
